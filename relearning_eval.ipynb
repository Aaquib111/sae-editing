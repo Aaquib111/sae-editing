{
 "cells": [
  {
   "cell_type": "code",
   "execution_count": 1,
   "metadata": {},
   "outputs": [
    {
     "name": "stdout",
     "output_type": "stream",
     "text": [
      "/root/sae-editing\n",
      "Successfully authenticated with Hugging Face.\n",
      "Successfully authenticated with Weights & Biases.\n"
     ]
    }
   ],
   "source": [
    "# from circuit_breaking.src import *\n",
    "%load_ext autoreload\n",
    "%autoreload 2\n",
    "import torch\n",
    "from functools import partial\n",
    "import matplotlib.pyplot as plt\n",
    "import numpy as np\n",
    "import os\n",
    "from tqdm.auto import tqdm\n",
    "print(os.getcwd())\n",
    "import sys\n",
    "from transformers import AutoTokenizer, AutoModelForCausalLM\n",
    "import contextlib\n",
    "import einops\n",
    "import wandb\n",
    "import pandas as pd\n",
    "import dotenv\n",
    "import bitsandbytes as bnb\n",
    "from collections import defaultdict\n",
    "from datasets import Dataset, DatasetDict\n",
    "dotenv.load_dotenv()\n",
    "\n",
    "from huggingface_hub import login\n",
    "\n",
    "HF_ACCESS_TOKEN = os.getenv(\"HF_ACCESS_TOKEN\")\n",
    "WANDB_API_KEY = os.getenv(\"WANDB_API_KEY\")\n",
    "if HF_ACCESS_TOKEN:\n",
    "    login(token=HF_ACCESS_TOKEN)\n",
    "    print(\"Successfully authenticated with Hugging Face.\")\n",
    "else:\n",
    "    print(\"Hugging Face access token not found in environment variables.\")\n",
    "\n",
    "if WANDB_API_KEY:\n",
    "    os.environ[\"WANDB_API_KEY\"] = WANDB_API_KEY\n",
    "    print(\"Successfully authenticated with Weights & Biases.\")\n",
    "else:\n",
    "    print(\"Weights & Biases API key not found in environment variables.\")\n"
   ]
  },
  {
   "cell_type": "code",
   "execution_count": 2,
   "metadata": {},
   "outputs": [
    {
     "data": {
      "application/vnd.jupyter.widget-view+json": {
       "model_id": "60cb314de6434841b1044acee97b087b",
       "version_major": 2,
       "version_minor": 0
      },
      "text/plain": [
       "Loading checkpoint shards:   0%|          | 0/4 [00:00<?, ?it/s]"
      ]
     },
     "metadata": {},
     "output_type": "display_data"
    }
   ],
   "source": [
    "model_name_or_path = \"google/gemma-2-9b\"\n",
    "model_type = \"gemma-2\"\n",
    "other_model_type = \"gemma2_9b\"\n",
    "# pretrained_path = \"/data/huggingface/models--google--gemma-2-9b/snapshots/33c193028431c2fde6c6e51f29e6f17b60cbfac6/\"\n",
    "# pretrained_path = \"/data/huggingface/models--google--gemma-2-9b-it/snapshots/11c9b309abf73637e4b6f9a3fa1e92e615547819/\"\n",
    "# pretrained_path = \"gemma-2-rmu-fullrank\"\n",
    "# pretrained_path = \"PhillipGuo/gemma-2-rmu-fullrank\"\n",
    "# pretrained_path = \"PhillipGuo/gemma-2-sae-cb-fullrank\"\n",
    "# pretrained_path = \"PhillipGuo/gemma-2-gd-mc-fullrank\"\n",
    "# pretrained_path = \"gemma-2-sae-masked-gd-mc-6-fullrank\"\n",
    "pretrained_path = \"gemma-2-sae-gd-2-fullrank\"\n",
    "# pretrained_path = \"PhillipGuo/gemma-2-9b-rmu-lora-2\"\n",
    "# pretrained_path = \"PhillipGuo/gemma-2-9b-sae-cb-lora\"\n",
    "# pretrained_path = None\n",
    "if pretrained_path is not None:\n",
    "    is_lora = \"lora\" in pretrained_path\n",
    "else:\n",
    "    is_lora = False\n",
    "\n",
    "tokenizer = AutoTokenizer.from_pretrained(model_name_or_path)\n",
    "tokenizer.pad_token_id = tokenizer.eos_token_id\n",
    "tokenizer.padding_side = \"right\"\n",
    "\n",
    "left_tokenizer = AutoTokenizer.from_pretrained(model_name_or_path)\n",
    "left_tokenizer.pad_token_id = left_tokenizer.eos_token_id\n",
    "left_tokenizer.padding_side = \"left\"\n",
    "\n",
    "dtype = torch.bfloat16\n",
    "if is_lora:\n",
    "    from peft import AutoPeftModel\n",
    "    if pretrained_path is not None:\n",
    "        model = AutoPeftModel.from_pretrained(pretrained_path, torch_dtype=dtype)\n",
    "    else:\n",
    "        model = AutoPeftModel.from_pretrained(model_name_or_path, torch_dtype=dtype)\n",
    "    model = model.merge_and_unload()\n",
    "    for name, param in model.named_parameters():\n",
    "        param.requires_grad = True\n",
    "\n",
    "else:\n",
    "    if pretrained_path is not None:\n",
    "        model = AutoModelForCausalLM.from_pretrained(pretrained_path, torch_dtype=dtype)\n",
    "    else:\n",
    "        model = AutoModelForCausalLM.from_pretrained(model_name_or_path, torch_dtype=dtype)\n",
    "model.cuda()\n",
    "n_layers = 42\n",
    "n_heads = 16\n",
    "n_kv_heads = 8\n",
    "\n",
    "param_count_dict = {\"attn.hook_q\": 3584*4096, \"attn.hook_k\": 3584*2048, \"attn.hook_v\": 3584*2048, \"attn.hook_result\": 4096*3584, \"mlp.hook_pre\": 3584 * 14336, \"mlp.hook_post\": 14336 * 3584, \"mlp.hook_gate\": 3584 * 14336}\n",
    "mmlu_batch_size = 2"
   ]
  },
  {
   "cell_type": "code",
   "execution_count": 3,
   "metadata": {},
   "outputs": [],
   "source": [
    "from tasks.wmdp.WMDP_MCTask import WMDP_MCTask, WMDP_DedupedTask\n",
    "from tasks.wmdp.WMDP_RelearnTask import WMDP_RelearnTask\n",
    "from tasks.general_capabilities.MCTask_redo import run_general_evals\n",
    "batch_size = 8\n",
    "bio_mc_task = WMDP_MCTask(batch_size=batch_size, tokenizer=tokenizer, subset=\"wmdp-bio\", shuffle=True)\n",
    "num_iters = len(bio_mc_task.dataset) // batch_size"
   ]
  },
  {
   "cell_type": "code",
   "execution_count": 4,
   "metadata": {},
   "outputs": [],
   "source": [
    "# bio_mc_deduped_task = WMDP_DedupedTask(batch_size=batch_size, tokenizer=tokenizer, subset=\"wmdp-bio\", shuffle=True)\n",
    "# num_train_iters = len(bio_mc_deduped_task.train_dataset) // batch_size\n",
    "# num_test_iters = (len(bio_mc_deduped_task.test_dataset) * 4) // batch_size\n",
    "\n",
    "# print(bio_mc_deduped_task.get_test_accuracy(model, use_test_data=True, n_iters=num_test_iters, continuous=True))\n",
    "# print(bio_mc_deduped_task.get_test_loss(model, n_iters=5))\n",
    "\n",
    "# print(bio_mc_deduped_task.get_test_accuracy(model, use_test_data=True, n_iters=num_test_iters, continuous=False))\n",
    "# print(bio_mc_deduped_task.get_test_accuracy(model, use_test_data=True, num_iters=num_test_iters, continuous=False))"
   ]
  },
  {
   "cell_type": "markdown",
   "metadata": {},
   "source": [
    "## Create Datasets"
   ]
  },
  {
   "cell_type": "code",
   "execution_count": 5,
   "metadata": {},
   "outputs": [],
   "source": [
    "create_datasets = False"
   ]
  },
  {
   "cell_type": "code",
   "execution_count": 6,
   "metadata": {},
   "outputs": [],
   "source": [
    "if create_datasets:\n",
    "    answers = [' A', ' B', ' C', ' D']\n",
    "    tokens = tokenizer(answers, return_tensors=\"pt\", add_special_tokens=False).input_ids[:, -1]\n",
    "    def format_row(row):\n",
    "        return f\"The following are multiple choice questions (with answers) about biology.\\n\\n{row['question']}\\nA. {row['choices'][0]}\\nB. {row['choices'][1]}\\nC. {row['choices'][2]}\\nD. {row['choices'][3]}\\nAnswer:\"\n",
    "\n",
    "    from tasks.inference_utils import get_final_logits\n",
    "\n",
    "    from datasets import load_dataset\n",
    "    original_bio_df = load_dataset(\"cais/wmdp\", \"wmdp-bio\", split=\"test\").to_pandas()\n",
    "    original_cyber_df = load_dataset(\"cais/wmdp\", \"wmdp-cyber\", split=\"test\").to_pandas()\n",
    "\n",
    "    # load in deduped data, split into train and test\n",
    "    bio_train_datasets = {}\n",
    "    cyber_train_datasets = {}\n",
    "    import random\n",
    "    random.seed(42)\n",
    "    def get_random_alternative_answer_idx(row):\n",
    "        answer_idx = row[\"answer\"]\n",
    "        choices = row[\"choices\"]\n",
    "        # choose random answer idx from range(len(choices)) that is not the answer_idx\n",
    "        possible_indices = [i for i in range(len(choices)) if i != answer_idx]\n",
    "        return random.choice(possible_indices)\n",
    "\n",
    "    eval_batch_size = 8\n",
    "\n",
    "    for split_idx in [0, 1, 2, 3, 4]:\n",
    "        # tasks/wmdp/data/mcq_split_0.jsonl\n",
    "        mcq_formatted_data = pd.read_json(f\"tasks/wmdp/data/mcq_split_{split_idx}.jsonl\", lines=True)\n",
    "        bio_indices = mcq_formatted_data[\"question\"].isin(original_bio_df[\"question\"])\n",
    "        cyber_indices = mcq_formatted_data[\"question\"].isin(original_cyber_df[\"question\"])\n",
    "        # display(bio_indices + cyber_indices)\n",
    "        # display(mcq_formatted_data[~(bio_indices + cyber_indices)])\n",
    "        print(\"Bio dataset is size \", len(mcq_formatted_data[bio_indices]), \"and cyber dataset is size \", len(mcq_formatted_data[cyber_indices]), \"Missed \", len(mcq_formatted_data[~(bio_indices + cyber_indices)]), \"data points in train split \", split_idx)\n",
    "\n",
    "        bio_train_df = mcq_formatted_data[bio_indices].copy()\n",
    "        cyber_train_df = mcq_formatted_data[cyber_indices].copy()\n",
    "        for df in (bio_train_df, cyber_train_df):\n",
    "            all_correct_probs = []\n",
    "            for batch_idx in range(0, len(df), eval_batch_size):\n",
    "                mcq_formatted_prompt = df.iloc[batch_idx:batch_idx+eval_batch_size].apply(format_row, axis=1).tolist()\n",
    "                batch_answer_indices = df[\"answer\"].tolist()[batch_idx:batch_idx+eval_batch_size]\n",
    "                token_labels = tokens[batch_answer_indices]\n",
    "                with torch.no_grad():\n",
    "                    logits = get_final_logits(model, tokenizer, mcq_formatted_prompt)\n",
    "                probs = torch.softmax(logits, dim=-1)\n",
    "                correct_probs = probs[range(len(logits)), token_labels]\n",
    "                all_correct_probs.append(correct_probs)\n",
    "            all_correct_probs = torch.cat(all_correct_probs).cpu().float()\n",
    "            df[f\"{model_type}_correct_probs\"] = all_correct_probs\n",
    "\n",
    "        bio_train_df[\"alternative_answer\"] = bio_train_df.apply(get_random_alternative_answer_idx, axis=1)\n",
    "        bio_train_datasets[f\"split{split_idx}\"] = Dataset.from_pandas(bio_train_df)\n",
    "        cyber_train_df[\"alternative_answer\"] = cyber_train_df.apply(get_random_alternative_answer_idx, axis=1)\n",
    "        cyber_train_datasets[f\"split{split_idx}\"] = Dataset.from_pandas(cyber_train_df)\n",
    "\n",
    "    # Create separate DatasetDicts for bio and cyber\n",
    "    bio_dataset = DatasetDict(bio_train_datasets)\n",
    "    cyber_dataset = DatasetDict(cyber_train_datasets)\n",
    "\n",
    "    bio_dataset.push_to_hub(\"PhillipGuo/wmdp-deduped-unlearn\", \"wmdp-bio-retrain\")\n",
    "    cyber_dataset.push_to_hub(\"PhillipGuo/wmdp-deduped-unlearn\", \"wmdp-cyber-retrain\")"
   ]
  },
  {
   "cell_type": "code",
   "execution_count": 7,
   "metadata": {},
   "outputs": [],
   "source": [
    "if create_datasets:\n",
    "    def format_prompt_question(row):\n",
    "        answer_idx = row[\"answer\"]\n",
    "        prompt = row[\"question\"]\n",
    "        true_answer = row[\"choices\"][answer_idx]\n",
    "        return f\"Question: {prompt}\\nAnswer: {true_answer}\"\n",
    "\n",
    "    def get_answer_text(row):\n",
    "        answer_idx = row[\"answer\"]\n",
    "        return f\" {row['choices'][answer_idx]}\"\n",
    "    df = mcq_formatted_data[bio_indices]\n",
    "    prompts = df.apply(format_prompt_question, axis=1)\n",
    "    print(prompts.tolist()[0])\n",
    "    true_answers = df.apply(get_answer_text, axis=1)\n",
    "    print(true_answers.tolist()[0])\n",
    "\n",
    "    dataset = load_dataset(\"PhillipGuo/wmdp-deduped-unlearn\", \"wmdp-bio-retrain\", split=\"split0\")\n",
    "\n",
    "\n",
    "    def get_token_sequence_pos(tokenizer, prompt_list, token_strs, batch_size=64):\n",
    "        \n",
    "        substring_start_positions = []\n",
    "        substring_end_positions = []\n",
    "        for i in tqdm(range(0, len(prompt_list), batch_size)):\n",
    "            tokenized_prompts = tokenizer(prompt_list[i:i+batch_size], return_tensors=\"pt\", padding=True)\n",
    "            \n",
    "            tokenized_substrings = tokenizer(token_strs[i:i+batch_size], add_special_tokens=False).input_ids\n",
    "            print(tokenized_substrings)\n",
    "            print(tokenized_prompts)\n",
    "            print(\"====\")\n",
    "            for j in range(len(tokenized_substrings)):\n",
    "                substring = torch.tensor(tokenized_substrings[j])\n",
    "                prompt = tokenized_prompts.input_ids[j]\n",
    "\n",
    "                # Find the last occurrence of the substring\n",
    "                substr_found = False\n",
    "                for k in range(len(prompt) - len(substring), -1, -1):\n",
    "                    if torch.all(prompt[k:k+len(substring)] == substring):\n",
    "                        if tokenizer.padding_side == \"left\":\n",
    "                            substring_start_positions.append(k - len(prompt))\n",
    "                            substring_end_positions.append(k + len(substring) - len(prompt))\n",
    "                        else:\n",
    "                            substring_start_positions.append(k)\n",
    "                            substring_end_positions.append(k + len(substring))\n",
    "                        substr_found = True\n",
    "                        break\n",
    "                if not substr_found:\n",
    "                    substring_start_positions.append(-1)\n",
    "                    substring_end_positions.append(-1)\n",
    "        return substring_start_positions, substring_end_positions"
   ]
  },
  {
   "cell_type": "code",
   "execution_count": 8,
   "metadata": {},
   "outputs": [],
   "source": [
    "if create_datasets:\n",
    "    from datasets import load_dataset\n",
    "    original_bio_df = load_dataset(\"cais/wmdp\", \"wmdp-bio\", split=\"test\").to_pandas()\n",
    "    original_cyber_df = load_dataset(\"cais/wmdp\", \"wmdp-cyber\", split=\"test\").to_pandas()\n",
    "\n",
    "    # load in deduped data, split into train and test\n",
    "    bio_train_dfs = []\n",
    "    cyber_train_dfs = []\n",
    "    for train_split_idx in [0]:\n",
    "        # tasks/wmdp/data/mcq_split_0.jsonl\n",
    "        mcq_formatted_data = pd.read_json(f\"tasks/wmdp/data/mcq_split_{train_split_idx}.jsonl\", lines=True)\n",
    "        bio_indices = mcq_formatted_data[\"question\"].isin(original_bio_df[\"question\"])\n",
    "        cyber_indices = mcq_formatted_data[\"question\"].isin(original_cyber_df[\"question\"])\n",
    "        # display(bio_indices + cyber_indices)\n",
    "        # display(mcq_formatted_data[~(bio_indices + cyber_indices)])\n",
    "        print(\"Bio dataset is size \", len(mcq_formatted_data[bio_indices]), \"and cyber dataset is size \", len(mcq_formatted_data[cyber_indices]), \"Missed \", len(mcq_formatted_data[~(bio_indices + cyber_indices)]), \"data points in train split \", train_split_idx)\n",
    "        bio_train_dfs.append(mcq_formatted_data[bio_indices])\n",
    "        cyber_train_dfs.append(mcq_formatted_data[cyber_indices])\n",
    "\n",
    "\n",
    "    bio_val_dfs = []\n",
    "    cyber_val_dfs = []\n",
    "    for val_split_idx in [1]:\n",
    "        mcq_formatted_data = pd.read_json(f\"tasks/wmdp/data/mcq_split_{val_split_idx}.jsonl\", lines=True)\n",
    "        bio_indices = mcq_formatted_data[\"question\"].isin(original_bio_df[\"question\"])\n",
    "        cyber_indices = mcq_formatted_data[\"question\"].isin(original_cyber_df[\"question\"])\n",
    "        bio_val_dfs.append(mcq_formatted_data[bio_indices])\n",
    "        cyber_val_dfs.append(mcq_formatted_data[cyber_indices])\n",
    "\n",
    "    bio_test_dfs = []\n",
    "    cyber_test_dfs = []\n",
    "    for test_split_idx in [2, 3, 4]:\n",
    "        mcq_formatted_data = pd.read_json(f\"tasks/wmdp/data/mcq_split_{test_split_idx}.jsonl\", lines=True)\n",
    "        bio_indices = mcq_formatted_data[\"question\"].isin(original_bio_df[\"question\"])\n",
    "        cyber_indices = mcq_formatted_data[\"question\"].isin(original_cyber_df[\"question\"])\n",
    "        bio_test_dfs.append(mcq_formatted_data[bio_indices])\n",
    "        cyber_test_dfs.append(mcq_formatted_data[cyber_indices])\n",
    "        print(\"Bio dataset is size \", len(mcq_formatted_data[bio_indices]), \"and cyber dataset is size \", len(mcq_formatted_data[cyber_indices]), \"Missed \", len(mcq_formatted_data[~(bio_indices + cyber_indices)]), \"data points in test split \", test_split_idx)\n",
    "\n",
    "    bio_train_df = pd.concat(bio_train_dfs, ignore_index=True)\n",
    "    cyber_train_df = pd.concat(cyber_train_dfs, ignore_index=True)\n",
    "\n",
    "    bio_val_df = pd.concat(bio_val_dfs, ignore_index=True)\n",
    "    cyber_val_df = pd.concat(cyber_val_dfs, ignore_index=True)\n",
    "\n",
    "    bio_test_df = pd.concat(bio_test_dfs, ignore_index=True)\n",
    "    cyber_test_df = pd.concat(cyber_test_dfs, ignore_index=True)\n",
    "    # convert to huggingface dataset\n",
    "    bio_train_dataset = Dataset.from_pandas(bio_train_df)\n",
    "    cyber_train_dataset = Dataset.from_pandas(cyber_train_df)\n",
    "    bio_val_dataset = Dataset.from_pandas(bio_val_df)\n",
    "    cyber_val_dataset = Dataset.from_pandas(cyber_val_df)\n",
    "    bio_test_dataset = Dataset.from_pandas(bio_test_df)\n",
    "    cyber_test_dataset = Dataset.from_pandas(cyber_test_df)\n",
    "\n",
    "    # Create separate DatasetDicts for bio and cyber\n",
    "    bio_dataset = DatasetDict({\n",
    "        \"train\": bio_train_dataset,\n",
    "        \"val\": bio_val_dataset,\n",
    "        \"test\": bio_test_dataset\n",
    "    })\n",
    "\n",
    "    cyber_dataset = DatasetDict({\n",
    "        \"train\": cyber_train_dataset,\n",
    "        \"val\": cyber_val_dataset,\n",
    "        \"test\": cyber_test_dataset\n",
    "    })\n",
    "    bio_dataset.push_to_hub(\"PhillipGuo/wmdp-deduped\", \"wmdp-bio-retrain\")\n",
    "    cyber_dataset.push_to_hub(\"PhillipGuo/wmdp-deduped\", \"wmdp-cyber-retrain\")"
   ]
  },
  {
   "cell_type": "markdown",
   "metadata": {},
   "source": [
    "## Back to Relearning"
   ]
  },
  {
   "cell_type": "code",
   "execution_count": 5,
   "metadata": {},
   "outputs": [],
   "source": [
    "from peft import LoraConfig, PeftModel, get_peft_model, prepare_model_for_kbit_training\n",
    "def do_relearning(model, train_tasks, n_iters, grad_accum_steps=8, finetune_lora=False, lora_kwargs={'rank': 256, 'alpha': 32, 'dropout': 0.05, 'target_modules': 'all-linear'}, learning_kwargs={'lr': 1e-5, 'weight_decay': 0, 'use_cosine': False}, eval_callback_fn=None):\n",
    "    # can either finetune full or lora\n",
    "\n",
    "    if not finetune_lora:\n",
    "        optimizer = bnb.optim.AdamW8bit(model.parameters(), lr=learning_kwargs['lr'], weight_decay=learning_kwargs['weight_decay'])\n",
    "\n",
    "    elif finetune_lora:\n",
    "        peft_config = LoraConfig(\n",
    "            inference_mode=False,\n",
    "            r=lora_kwargs['rank'],\n",
    "            lora_alpha=lora_kwargs['alpha'],\n",
    "            lora_dropout=lora_kwargs['dropout'],\n",
    "            target_modules = lora_kwargs['target_modules'], #[\"q_proj\", \"v_proj\", \n",
    "        )\n",
    "\n",
    "        model = get_peft_model(model, peft_config).cuda()\n",
    "        # model.print_trainable_parameters()\n",
    "        print(f\"Parameters in peft: {sum(p.numel() for p in model.parameters() if p.requires_grad)}\")\n",
    "\n",
    "        optimizer = torch.optim.AdamW(model.parameters(), lr=learning_kwargs['lr'], weight_decay=learning_kwargs['weight_decay'])\n",
    "    \n",
    "    if learning_kwargs['use_cosine']:\n",
    "        scheduler = torch.optim.lr_scheduler.CosineAnnealingLR(optimizer=optimizer, T_max=n_iters)\n",
    "\n",
    "    train_losses = defaultdict(list)\n",
    "    test_losses = []\n",
    "\n",
    "    for iter_idx in tqdm(range(n_iters)):\n",
    "        log_dict = {}\n",
    "        optimizer.zero_grad()\n",
    "        for task_name, (task, task_weight) in train_tasks.items():\n",
    "            task_loss = 0\n",
    "            for i in range(grad_accum_steps):\n",
    "                loss = task.get_train_loss(model) / grad_accum_steps\n",
    "                task_loss += loss.item()\n",
    "                (loss * task_weight).backward()\n",
    "            train_losses[task_name].append(task_loss)\n",
    "            log_dict[f\"train_loss/{task_name}\"] = task_loss\n",
    "\n",
    "        optimizer.step()\n",
    "        optimizer.zero_grad()\n",
    "        if learning_kwargs['use_cosine']:\n",
    "            scheduler.step()\n",
    "            log_dict[\"learning_rate\"] = scheduler.get_last_lr()[0]\n",
    "            \n",
    "        torch.cuda.empty_cache()\n",
    "\n",
    "        if eval_callback_fn is not None:\n",
    "            eval_metrics = eval_callback_fn(model, epoch=iter_idx)\n",
    "            test_losses.append(eval_metrics)\n",
    "            # Add eval metrics to wandb logging\n",
    "            if eval_metrics:  # Only log when we actually have eval metrics\n",
    "                for metric_name, value in eval_metrics.items():\n",
    "                    log_dict[f\"eval/{metric_name}\"] = value\n",
    "            print(test_losses[-1])\n",
    "        \n",
    "        # Log metrics to wandb\n",
    "        wandb.log(log_dict, step=iter_idx+1)\n",
    "\n",
    "    if len(test_losses) > 0:\n",
    "        return train_losses, test_losses\n",
    "    return train_losses\n"
   ]
  },
  {
   "cell_type": "code",
   "execution_count": 6,
   "metadata": {},
   "outputs": [
    {
     "data": {
      "application/vnd.jupyter.widget-view+json": {
       "model_id": "e96b0f720179423ebd66b63525954147",
       "version_major": 2,
       "version_minor": 0
      },
      "text/plain": [
       "  0%|          | 0/1 [00:00<?, ?it/s]"
      ]
     },
     "metadata": {},
     "output_type": "display_data"
    },
    {
     "data": {
      "application/vnd.jupyter.widget-view+json": {
       "model_id": "f1ba3e09294b4a60877932e48cb5c4d5",
       "version_major": 2,
       "version_minor": 0
      },
      "text/plain": [
       "  0%|          | 0/1 [00:00<?, ?it/s]"
      ]
     },
     "metadata": {},
     "output_type": "display_data"
    },
    {
     "name": "stderr",
     "output_type": "stream",
     "text": [
      "Parameter 'function'=<bound method WMDP_UnlearnMCTask.format_row of <tasks.wmdp.WMDP_UnlearnTask.WMDP_UnlearnMCTask object at 0x7f0e68443fe0>> of the transform datasets.arrow_dataset.Dataset._map_single couldn't be hashed properly, a random hash was used instead. Make sure your transforms and parameters are serializable with pickle or dill for the dataset fingerprinting and caching to work. If you reuse this transform, the caching mechanism will consider it to be different from the previous calls and recompute everything. This warning is only showed once. Subsequent hashing failures won't be showed.\n"
     ]
    },
    {
     "data": {
      "application/vnd.jupyter.widget-view+json": {
       "model_id": "4413897b9b1d48aa84723a2474f5567e",
       "version_major": 2,
       "version_minor": 0
      },
      "text/plain": [
       "Map:   0%|          | 0/32 [00:00<?, ? examples/s]"
      ]
     },
     "metadata": {},
     "output_type": "display_data"
    },
    {
     "data": {
      "application/vnd.jupyter.widget-view+json": {
       "model_id": "fb707c36baa84cf29de4c2ea16bc250a",
       "version_major": 2,
       "version_minor": 0
      },
      "text/plain": [
       "Map:   0%|          | 0/34 [00:00<?, ? examples/s]"
      ]
     },
     "metadata": {},
     "output_type": "display_data"
    },
    {
     "data": {
      "application/vnd.jupyter.widget-view+json": {
       "model_id": "62f969ae7a0b4918bfdc9c652e199cc3",
       "version_major": 2,
       "version_minor": 0
      },
      "text/plain": [
       "Resolving data files:   0%|          | 0/30 [00:00<?, ?it/s]"
      ]
     },
     "metadata": {},
     "output_type": "display_data"
    },
    {
     "data": {
      "application/vnd.jupyter.widget-view+json": {
       "model_id": "9d36dcb256a34e7482362f3c96537592",
       "version_major": 2,
       "version_minor": 0
      },
      "text/plain": [
       "Resolving data files:   0%|          | 0/30 [00:00<?, ?it/s]"
      ]
     },
     "metadata": {},
     "output_type": "display_data"
    },
    {
     "name": "stdout",
     "output_type": "stream",
     "text": [
      "No test dataset available. Using train dataset for testing.\n"
     ]
    },
    {
     "data": {
      "application/vnd.jupyter.widget-view+json": {
       "model_id": "5d70805373814131828108e51556af89",
       "version_major": 2,
       "version_minor": 0
      },
      "text/plain": [
       "  0%|          | 0/1 [00:00<?, ?it/s]"
      ]
     },
     "metadata": {},
     "output_type": "display_data"
    },
    {
     "data": {
      "application/vnd.jupyter.widget-view+json": {
       "model_id": "284b41bed1f8425f86cb92f4e61fab95",
       "version_major": 2,
       "version_minor": 0
      },
      "text/plain": [
       "  0%|          | 0/1 [00:00<?, ?it/s]"
      ]
     },
     "metadata": {},
     "output_type": "display_data"
    },
    {
     "data": {
      "application/vnd.jupyter.widget-view+json": {
       "model_id": "bfcee55fb9e44b2cb22a7238490d518f",
       "version_major": 2,
       "version_minor": 0
      },
      "text/plain": [
       "Map:   0%|          | 0/32 [00:00<?, ? examples/s]"
      ]
     },
     "metadata": {},
     "output_type": "display_data"
    },
    {
     "data": {
      "application/vnd.jupyter.widget-view+json": {
       "model_id": "24f2ff8d75f94c17acd68acefa7b0400",
       "version_major": 2,
       "version_minor": 0
      },
      "text/plain": [
       "Map:   0%|          | 0/34 [00:00<?, ? examples/s]"
      ]
     },
     "metadata": {},
     "output_type": "display_data"
    }
   ],
   "source": [
    "from tasks.general.DatasetTasks import PileTask\n",
    "from tasks.wmdp.WMDP_UnlearnTask import WMDP_UnlearnTask, WMDP_UnlearnMCTask\n",
    "\n",
    "train_batch_size = 2\n",
    "train_bio_task = WMDP_UnlearnMCTask(batch_size=train_batch_size, tokenizer=tokenizer, subset=\"wmdp-bio\", shuffle=False, split=\"first_two\", train_test_split=True, criterion=\"cross_entropy\", injection_task=False, model_type=model_type, filter_correct_prob_threshold=0.5)\n",
    "train_pile_task = PileTask(batch_size=train_batch_size, tokenizer=tokenizer, stream_dataset=True, buffer_size=10000, ctx_length=100)\n",
    "train_tasks = {\"bio\": (train_bio_task, .1), \"pile\": (train_pile_task, 1)}\n",
    "relearning_regular_results = {}\n",
    "n_relearn_iters = 100\n",
    "model.cuda()\n",
    "\n",
    "eval_batch_size = 8\n",
    "eval_bio_task = WMDP_UnlearnMCTask(batch_size=eval_batch_size, tokenizer=tokenizer, subset=\"wmdp-bio\", shuffle=False, split=\"first_two\", train_test_split=True, criterion=\"cross_entropy\", injection_task=False, model_type=model_type, filter_correct_prob_threshold=0.5)\n",
    "num_train_iters = len(eval_bio_task.train_dataset) // eval_batch_size\n",
    "num_test_iters = (len(eval_bio_task.test_dataset) * 4) // eval_batch_size"
   ]
  },
  {
   "cell_type": "code",
   "execution_count": 7,
   "metadata": {},
   "outputs": [
    {
     "name": "stdout",
     "output_type": "stream",
     "text": [
      "|===========================================================================|\n",
      "|                  PyTorch CUDA memory summary, device ID 0                 |\n",
      "|---------------------------------------------------------------------------|\n",
      "|            CUDA OOMs: 0            |        cudaMalloc retries: 0         |\n",
      "|===========================================================================|\n",
      "|        Metric         | Cur Usage  | Peak Usage | Tot Alloc  | Tot Freed  |\n",
      "|---------------------------------------------------------------------------|\n",
      "| Allocated memory      |  17627 MiB |  17627 MiB |  17627 MiB |      0 B   |\n",
      "|       from large pool |  17626 MiB |  17626 MiB |  17626 MiB |      0 B   |\n",
      "|       from small pool |      1 MiB |      1 MiB |      1 MiB |      0 B   |\n",
      "|---------------------------------------------------------------------------|\n",
      "| Active memory         |  17627 MiB |  17627 MiB |  17627 MiB |      0 B   |\n",
      "|       from large pool |  17626 MiB |  17626 MiB |  17626 MiB |      0 B   |\n",
      "|       from small pool |      1 MiB |      1 MiB |      1 MiB |      0 B   |\n",
      "|---------------------------------------------------------------------------|\n",
      "| Requested memory      |  17627 MiB |  17627 MiB |  17627 MiB |      0 B   |\n",
      "|       from large pool |  17626 MiB |  17626 MiB |  17626 MiB |      0 B   |\n",
      "|       from small pool |      1 MiB |      1 MiB |      1 MiB |      0 B   |\n",
      "|---------------------------------------------------------------------------|\n",
      "| GPU reserved memory   |  17628 MiB |  17628 MiB |  17628 MiB |      0 B   |\n",
      "|       from large pool |  17626 MiB |  17626 MiB |  17626 MiB |      0 B   |\n",
      "|       from small pool |      2 MiB |      2 MiB |      2 MiB |      0 B   |\n",
      "|---------------------------------------------------------------------------|\n",
      "| Non-releasable memory |    842 KiB |   2047 KiB |   2047 KiB |   1205 KiB |\n",
      "|       from large pool |      0 KiB |      0 KiB |      0 KiB |      0 KiB |\n",
      "|       from small pool |    842 KiB |   2047 KiB |   2047 KiB |   1205 KiB |\n",
      "|---------------------------------------------------------------------------|\n",
      "| Allocations           |     509    |     509    |     509    |       0    |\n",
      "|       from large pool |     295    |     295    |     295    |       0    |\n",
      "|       from small pool |     214    |     214    |     214    |       0    |\n",
      "|---------------------------------------------------------------------------|\n",
      "| Active allocs         |     509    |     509    |     509    |       0    |\n",
      "|       from large pool |     295    |     295    |     295    |       0    |\n",
      "|       from small pool |     214    |     214    |     214    |       0    |\n",
      "|---------------------------------------------------------------------------|\n",
      "| GPU reserved segments |     296    |     296    |     296    |       0    |\n",
      "|       from large pool |     295    |     295    |     295    |       0    |\n",
      "|       from small pool |       1    |       1    |       1    |       0    |\n",
      "|---------------------------------------------------------------------------|\n",
      "| Non-releasable allocs |       1    |       1    |       1    |       0    |\n",
      "|       from large pool |       0    |       0    |       0    |       0    |\n",
      "|       from small pool |       1    |       1    |       1    |       0    |\n",
      "|---------------------------------------------------------------------------|\n",
      "| Oversize allocations  |       0    |       0    |       0    |       0    |\n",
      "|---------------------------------------------------------------------------|\n",
      "| Oversize GPU segments |       0    |       0    |       0    |       0    |\n",
      "|===========================================================================|\n",
      "\n"
     ]
    }
   ],
   "source": [
    "print(torch.cuda.memory_summary(device=None, abbreviated=False))"
   ]
  },
  {
   "cell_type": "code",
   "execution_count": 8,
   "metadata": {},
   "outputs": [
    {
     "name": "stderr",
     "output_type": "stream",
     "text": [
      "Failed to detect the name of this notebook, you can set it manually with the WANDB_NOTEBOOK_NAME environment variable to enable code saving.\n",
      "\u001b[34m\u001b[1mwandb\u001b[0m: Using wandb-core as the SDK backend.  Please refer to https://wandb.me/wandb-core for more information.\n"
     ]
    },
    {
     "name": "stdout",
     "output_type": "stream",
     "text": [
      "num_train_iters:  4 num_test_iters:  17\n"
     ]
    },
    {
     "name": "stderr",
     "output_type": "stream",
     "text": [
      "\u001b[34m\u001b[1mwandb\u001b[0m: Currently logged in as: \u001b[33mphilliphguo\u001b[0m (\u001b[33mquirky_lats_at_mats\u001b[0m). Use \u001b[1m`wandb login --relogin`\u001b[0m to force relogin\n"
     ]
    },
    {
     "data": {
      "text/html": [
       "Tracking run with wandb version 0.19.1"
      ],
      "text/plain": [
       "<IPython.core.display.HTML object>"
      ]
     },
     "metadata": {},
     "output_type": "display_data"
    },
    {
     "data": {
      "text/html": [
       "Run data is saved locally in <code>/root/sae-editing/wandb/run-20250108_025010-jh393bci</code>"
      ],
      "text/plain": [
       "<IPython.core.display.HTML object>"
      ]
     },
     "metadata": {},
     "output_type": "display_data"
    },
    {
     "data": {
      "text/html": [
       "Syncing run <strong><a href='https://wandb.ai/quirky_lats_at_mats/sae-relearning/runs/jh393bci' target=\"_blank\">autumn-plant-25</a></strong> to <a href='https://wandb.ai/quirky_lats_at_mats/sae-relearning' target=\"_blank\">Weights & Biases</a> (<a href='https://wandb.me/developer-guide' target=\"_blank\">docs</a>)<br>"
      ],
      "text/plain": [
       "<IPython.core.display.HTML object>"
      ]
     },
     "metadata": {},
     "output_type": "display_data"
    },
    {
     "data": {
      "text/html": [
       " View project at <a href='https://wandb.ai/quirky_lats_at_mats/sae-relearning' target=\"_blank\">https://wandb.ai/quirky_lats_at_mats/sae-relearning</a>"
      ],
      "text/plain": [
       "<IPython.core.display.HTML object>"
      ]
     },
     "metadata": {},
     "output_type": "display_data"
    },
    {
     "data": {
      "text/html": [
       " View run at <a href='https://wandb.ai/quirky_lats_at_mats/sae-relearning/runs/jh393bci' target=\"_blank\">https://wandb.ai/quirky_lats_at_mats/sae-relearning/runs/jh393bci</a>"
      ],
      "text/plain": [
       "<IPython.core.display.HTML object>"
      ]
     },
     "metadata": {},
     "output_type": "display_data"
    },
    {
     "name": "stderr",
     "output_type": "stream",
     "text": [
      "The 'batch_size' argument of HybridCache is deprecated and will be removed in v4.49. Use the more precisely named 'max_batch_size' argument instead.\n",
      "The 'batch_size' attribute of HybridCache is deprecated and will be removed in v4.49. Use the more precisely named 'self.max_batch_size' attribute instead.\n"
     ]
    },
    {
     "name": "stdout",
     "output_type": "stream",
     "text": [
      "initial_train_losses:  {'bio': 1.3984375, 'pile': 2.56494140625}\n"
     ]
    },
    {
     "name": "stderr",
     "output_type": "stream",
     "text": [
      "Asking to truncate to max_length but no maximum length is provided and the model has no predefined maximum length. Default to no truncation.\n"
     ]
    },
    {
     "name": "stdout",
     "output_type": "stream",
     "text": [
      "Initial test evaluations:  {'MMLU': 0.64, 'train_bio_acc': 0.272216796875, 'test_bio_acc': 0.3000919117647059}\n"
     ]
    },
    {
     "data": {
      "application/vnd.jupyter.widget-view+json": {
       "model_id": "b3eda3bbbf55482ea1b338e5f1564dbc",
       "version_major": 2,
       "version_minor": 0
      },
      "text/plain": [
       "  0%|          | 0/100 [00:00<?, ?it/s]"
      ]
     },
     "metadata": {},
     "output_type": "display_data"
    },
    {
     "name": "stdout",
     "output_type": "stream",
     "text": [
      "{}\n",
      "{}\n",
      "{}\n"
     ]
    },
    {
     "name": "stderr",
     "output_type": "stream",
     "text": [
      "Asking to truncate to max_length but no maximum length is provided and the model has no predefined maximum length. Default to no truncation.\n"
     ]
    },
    {
     "name": "stdout",
     "output_type": "stream",
     "text": [
      "{'MMLU': 0.66, 'train_bio_acc': 0.974609375, 'test_bio_acc': 0.8674172794117647}\n",
      "{}\n",
      "{}\n",
      "{}\n"
     ]
    },
    {
     "name": "stderr",
     "output_type": "stream",
     "text": [
      "Asking to truncate to max_length but no maximum length is provided and the model has no predefined maximum length. Default to no truncation.\n"
     ]
    },
    {
     "name": "stdout",
     "output_type": "stream",
     "text": [
      "{'MMLU': 0.66, 'train_bio_acc': 0.9970703125, 'test_bio_acc': 0.8272058823529411}\n",
      "{}\n",
      "{}\n",
      "{}\n"
     ]
    },
    {
     "name": "stderr",
     "output_type": "stream",
     "text": [
      "Asking to truncate to max_length but no maximum length is provided and the model has no predefined maximum length. Default to no truncation.\n"
     ]
    },
    {
     "name": "stdout",
     "output_type": "stream",
     "text": [
      "{'MMLU': 0.64, 'train_bio_acc': 0.9990234375, 'test_bio_acc': 0.8200827205882353}\n",
      "{}\n",
      "{}\n",
      "{}\n"
     ]
    },
    {
     "name": "stderr",
     "output_type": "stream",
     "text": [
      "Asking to truncate to max_length but no maximum length is provided and the model has no predefined maximum length. Default to no truncation.\n"
     ]
    },
    {
     "name": "stdout",
     "output_type": "stream",
     "text": [
      "{'MMLU': 0.64, 'train_bio_acc': 1.0, 'test_bio_acc': 0.8134191176470589}\n",
      "{}\n",
      "{}\n",
      "{}\n"
     ]
    },
    {
     "name": "stderr",
     "output_type": "stream",
     "text": [
      "Asking to truncate to max_length but no maximum length is provided and the model has no predefined maximum length. Default to no truncation.\n"
     ]
    },
    {
     "name": "stdout",
     "output_type": "stream",
     "text": [
      "{'MMLU': 0.64, 'train_bio_acc': 1.0, 'test_bio_acc': 0.8458180147058824}\n",
      "{}\n",
      "{}\n",
      "{}\n"
     ]
    },
    {
     "name": "stderr",
     "output_type": "stream",
     "text": [
      "Asking to truncate to max_length but no maximum length is provided and the model has no predefined maximum length. Default to no truncation.\n"
     ]
    },
    {
     "name": "stdout",
     "output_type": "stream",
     "text": [
      "{'MMLU': 0.65, 'train_bio_acc': 1.0, 'test_bio_acc': 0.8340992647058824}\n",
      "{}\n",
      "{}\n",
      "{}\n"
     ]
    },
    {
     "name": "stderr",
     "output_type": "stream",
     "text": [
      "Asking to truncate to max_length but no maximum length is provided and the model has no predefined maximum length. Default to no truncation.\n"
     ]
    },
    {
     "name": "stdout",
     "output_type": "stream",
     "text": [
      "{'MMLU': 0.64, 'train_bio_acc': 1.0, 'test_bio_acc': 0.8329503676470589}\n",
      "{}\n",
      "{}\n",
      "{}\n"
     ]
    },
    {
     "name": "stderr",
     "output_type": "stream",
     "text": [
      "Asking to truncate to max_length but no maximum length is provided and the model has no predefined maximum length. Default to no truncation.\n"
     ]
    },
    {
     "name": "stdout",
     "output_type": "stream",
     "text": [
      "{'MMLU': 0.65, 'train_bio_acc': 1.0, 'test_bio_acc': 0.8327205882352942}\n",
      "{}\n",
      "{}\n",
      "{}\n"
     ]
    },
    {
     "name": "stderr",
     "output_type": "stream",
     "text": [
      "Asking to truncate to max_length but no maximum length is provided and the model has no predefined maximum length. Default to no truncation.\n"
     ]
    },
    {
     "name": "stdout",
     "output_type": "stream",
     "text": [
      "{'MMLU': 0.64, 'train_bio_acc': 1.0, 'test_bio_acc': 0.8609834558823529}\n"
     ]
    },
    {
     "ename": "KeyboardInterrupt",
     "evalue": "",
     "output_type": "error",
     "traceback": [
      "\u001b[0;31m---------------------------------------------------------------------------\u001b[0m",
      "\u001b[0;31mKeyboardInterrupt\u001b[0m                         Traceback (most recent call last)",
      "Cell \u001b[0;32mIn[8], line 52\u001b[0m\n\u001b[1;32m     48\u001b[0m \u001b[38;5;28mprint\u001b[39m(\u001b[38;5;124m\"\u001b[39m\u001b[38;5;124mInitial test evaluations: \u001b[39m\u001b[38;5;124m\"\u001b[39m, initial_test_loss)\n\u001b[1;32m     50\u001b[0m wandb\u001b[38;5;241m.\u001b[39mlog(init_log_dict, step\u001b[38;5;241m=\u001b[39m\u001b[38;5;241m0\u001b[39m)\n\u001b[0;32m---> 52\u001b[0m train_losses, test_losses \u001b[38;5;241m=\u001b[39m \u001b[43mdo_relearning\u001b[49m\u001b[43m(\u001b[49m\u001b[43mmodel\u001b[49m\u001b[43m,\u001b[49m\u001b[43m \u001b[49m\u001b[43mtrain_tasks\u001b[49m\u001b[43m,\u001b[49m\u001b[43m \u001b[49m\u001b[43mn_iters\u001b[49m\u001b[38;5;241;43m=\u001b[39;49m\u001b[43mn_relearn_iters\u001b[49m\u001b[43m,\u001b[49m\u001b[43m \u001b[49m\u001b[43mgrad_accum_steps\u001b[49m\u001b[38;5;241;43m=\u001b[39;49m\u001b[43mgrad_accum_steps\u001b[49m\u001b[43m,\u001b[49m\u001b[43m \u001b[49m\u001b[43mfinetune_lora\u001b[49m\u001b[38;5;241;43m=\u001b[39;49m\u001b[43mfinetune_lora\u001b[49m\u001b[43m,\u001b[49m\u001b[43m \u001b[49m\u001b[43mlearning_kwargs\u001b[49m\u001b[38;5;241;43m=\u001b[39;49m\u001b[43m{\u001b[49m\u001b[38;5;124;43m'\u001b[39;49m\u001b[38;5;124;43mlr\u001b[39;49m\u001b[38;5;124;43m'\u001b[39;49m\u001b[43m:\u001b[49m\u001b[43m \u001b[49m\u001b[43mlr\u001b[49m\u001b[43m,\u001b[49m\u001b[43m \u001b[49m\u001b[38;5;124;43m'\u001b[39;49m\u001b[38;5;124;43mweight_decay\u001b[39;49m\u001b[38;5;124;43m'\u001b[39;49m\u001b[43m:\u001b[49m\u001b[43m \u001b[49m\u001b[38;5;241;43m0\u001b[39;49m\u001b[43m,\u001b[49m\u001b[43m \u001b[49m\u001b[38;5;124;43m'\u001b[39;49m\u001b[38;5;124;43muse_cosine\u001b[39;49m\u001b[38;5;124;43m'\u001b[39;49m\u001b[43m:\u001b[49m\u001b[43m \u001b[49m\u001b[38;5;28;43;01mTrue\u001b[39;49;00m\u001b[43m}\u001b[49m\u001b[43m,\u001b[49m\u001b[43m \u001b[49m\u001b[43meval_callback_fn\u001b[49m\u001b[38;5;241;43m=\u001b[39;49m\u001b[43meval_callback\u001b[49m\u001b[43m)\u001b[49m\n\u001b[1;32m     54\u001b[0m test_losses\u001b[38;5;241m.\u001b[39minsert(\u001b[38;5;241m0\u001b[39m, initial_test_loss)\n\u001b[1;32m     57\u001b[0m wandb\u001b[38;5;241m.\u001b[39mfinish()\n",
      "Cell \u001b[0;32mIn[5], line 37\u001b[0m, in \u001b[0;36mdo_relearning\u001b[0;34m(model, train_tasks, n_iters, grad_accum_steps, finetune_lora, lora_kwargs, learning_kwargs, eval_callback_fn)\u001b[0m\n\u001b[1;32m     35\u001b[0m     loss \u001b[38;5;241m=\u001b[39m task\u001b[38;5;241m.\u001b[39mget_train_loss(model) \u001b[38;5;241m/\u001b[39m grad_accum_steps\n\u001b[1;32m     36\u001b[0m     task_loss \u001b[38;5;241m+\u001b[39m\u001b[38;5;241m=\u001b[39m loss\u001b[38;5;241m.\u001b[39mitem()\n\u001b[0;32m---> 37\u001b[0m     \u001b[43m(\u001b[49m\u001b[43mloss\u001b[49m\u001b[43m \u001b[49m\u001b[38;5;241;43m*\u001b[39;49m\u001b[43m \u001b[49m\u001b[43mtask_weight\u001b[49m\u001b[43m)\u001b[49m\u001b[38;5;241;43m.\u001b[39;49m\u001b[43mbackward\u001b[49m\u001b[43m(\u001b[49m\u001b[43m)\u001b[49m\n\u001b[1;32m     38\u001b[0m train_losses[task_name]\u001b[38;5;241m.\u001b[39mappend(task_loss)\n\u001b[1;32m     39\u001b[0m log_dict[\u001b[38;5;124mf\u001b[39m\u001b[38;5;124m\"\u001b[39m\u001b[38;5;124mtrain_loss/\u001b[39m\u001b[38;5;132;01m{\u001b[39;00mtask_name\u001b[38;5;132;01m}\u001b[39;00m\u001b[38;5;124m\"\u001b[39m] \u001b[38;5;241m=\u001b[39m task_loss\n",
      "File \u001b[0;32m~/miniconda3/envs/sae/lib/python3.12/site-packages/torch/_tensor.py:581\u001b[0m, in \u001b[0;36mTensor.backward\u001b[0;34m(self, gradient, retain_graph, create_graph, inputs)\u001b[0m\n\u001b[1;32m    571\u001b[0m \u001b[38;5;28;01mif\u001b[39;00m has_torch_function_unary(\u001b[38;5;28mself\u001b[39m):\n\u001b[1;32m    572\u001b[0m     \u001b[38;5;28;01mreturn\u001b[39;00m handle_torch_function(\n\u001b[1;32m    573\u001b[0m         Tensor\u001b[38;5;241m.\u001b[39mbackward,\n\u001b[1;32m    574\u001b[0m         (\u001b[38;5;28mself\u001b[39m,),\n\u001b[0;32m   (...)\u001b[0m\n\u001b[1;32m    579\u001b[0m         inputs\u001b[38;5;241m=\u001b[39minputs,\n\u001b[1;32m    580\u001b[0m     )\n\u001b[0;32m--> 581\u001b[0m \u001b[43mtorch\u001b[49m\u001b[38;5;241;43m.\u001b[39;49m\u001b[43mautograd\u001b[49m\u001b[38;5;241;43m.\u001b[39;49m\u001b[43mbackward\u001b[49m\u001b[43m(\u001b[49m\n\u001b[1;32m    582\u001b[0m \u001b[43m    \u001b[49m\u001b[38;5;28;43mself\u001b[39;49m\u001b[43m,\u001b[49m\u001b[43m \u001b[49m\u001b[43mgradient\u001b[49m\u001b[43m,\u001b[49m\u001b[43m \u001b[49m\u001b[43mretain_graph\u001b[49m\u001b[43m,\u001b[49m\u001b[43m \u001b[49m\u001b[43mcreate_graph\u001b[49m\u001b[43m,\u001b[49m\u001b[43m \u001b[49m\u001b[43minputs\u001b[49m\u001b[38;5;241;43m=\u001b[39;49m\u001b[43minputs\u001b[49m\n\u001b[1;32m    583\u001b[0m \u001b[43m\u001b[49m\u001b[43m)\u001b[49m\n",
      "File \u001b[0;32m~/miniconda3/envs/sae/lib/python3.12/site-packages/torch/autograd/__init__.py:347\u001b[0m, in \u001b[0;36mbackward\u001b[0;34m(tensors, grad_tensors, retain_graph, create_graph, grad_variables, inputs)\u001b[0m\n\u001b[1;32m    342\u001b[0m     retain_graph \u001b[38;5;241m=\u001b[39m create_graph\n\u001b[1;32m    344\u001b[0m \u001b[38;5;66;03m# The reason we repeat the same comment below is that\u001b[39;00m\n\u001b[1;32m    345\u001b[0m \u001b[38;5;66;03m# some Python versions print out the first line of a multi-line function\u001b[39;00m\n\u001b[1;32m    346\u001b[0m \u001b[38;5;66;03m# calls in the traceback and some print out the last line\u001b[39;00m\n\u001b[0;32m--> 347\u001b[0m \u001b[43m_engine_run_backward\u001b[49m\u001b[43m(\u001b[49m\n\u001b[1;32m    348\u001b[0m \u001b[43m    \u001b[49m\u001b[43mtensors\u001b[49m\u001b[43m,\u001b[49m\n\u001b[1;32m    349\u001b[0m \u001b[43m    \u001b[49m\u001b[43mgrad_tensors_\u001b[49m\u001b[43m,\u001b[49m\n\u001b[1;32m    350\u001b[0m \u001b[43m    \u001b[49m\u001b[43mretain_graph\u001b[49m\u001b[43m,\u001b[49m\n\u001b[1;32m    351\u001b[0m \u001b[43m    \u001b[49m\u001b[43mcreate_graph\u001b[49m\u001b[43m,\u001b[49m\n\u001b[1;32m    352\u001b[0m \u001b[43m    \u001b[49m\u001b[43minputs\u001b[49m\u001b[43m,\u001b[49m\n\u001b[1;32m    353\u001b[0m \u001b[43m    \u001b[49m\u001b[43mallow_unreachable\u001b[49m\u001b[38;5;241;43m=\u001b[39;49m\u001b[38;5;28;43;01mTrue\u001b[39;49;00m\u001b[43m,\u001b[49m\n\u001b[1;32m    354\u001b[0m \u001b[43m    \u001b[49m\u001b[43maccumulate_grad\u001b[49m\u001b[38;5;241;43m=\u001b[39;49m\u001b[38;5;28;43;01mTrue\u001b[39;49;00m\u001b[43m,\u001b[49m\n\u001b[1;32m    355\u001b[0m \u001b[43m\u001b[49m\u001b[43m)\u001b[49m\n",
      "File \u001b[0;32m~/miniconda3/envs/sae/lib/python3.12/site-packages/torch/autograd/graph.py:825\u001b[0m, in \u001b[0;36m_engine_run_backward\u001b[0;34m(t_outputs, *args, **kwargs)\u001b[0m\n\u001b[1;32m    823\u001b[0m     unregister_hooks \u001b[38;5;241m=\u001b[39m _register_logging_hooks_on_whole_graph(t_outputs)\n\u001b[1;32m    824\u001b[0m \u001b[38;5;28;01mtry\u001b[39;00m:\n\u001b[0;32m--> 825\u001b[0m     \u001b[38;5;28;01mreturn\u001b[39;00m \u001b[43mVariable\u001b[49m\u001b[38;5;241;43m.\u001b[39;49m\u001b[43m_execution_engine\u001b[49m\u001b[38;5;241;43m.\u001b[39;49m\u001b[43mrun_backward\u001b[49m\u001b[43m(\u001b[49m\u001b[43m  \u001b[49m\u001b[38;5;66;43;03m# Calls into the C++ engine to run the backward pass\u001b[39;49;00m\n\u001b[1;32m    826\u001b[0m \u001b[43m        \u001b[49m\u001b[43mt_outputs\u001b[49m\u001b[43m,\u001b[49m\u001b[43m \u001b[49m\u001b[38;5;241;43m*\u001b[39;49m\u001b[43margs\u001b[49m\u001b[43m,\u001b[49m\u001b[43m \u001b[49m\u001b[38;5;241;43m*\u001b[39;49m\u001b[38;5;241;43m*\u001b[39;49m\u001b[43mkwargs\u001b[49m\n\u001b[1;32m    827\u001b[0m \u001b[43m    \u001b[49m\u001b[43m)\u001b[49m  \u001b[38;5;66;03m# Calls into the C++ engine to run the backward pass\u001b[39;00m\n\u001b[1;32m    828\u001b[0m \u001b[38;5;28;01mfinally\u001b[39;00m:\n\u001b[1;32m    829\u001b[0m     \u001b[38;5;28;01mif\u001b[39;00m attach_logging_hooks:\n",
      "\u001b[0;31mKeyboardInterrupt\u001b[0m: "
     ]
    }
   ],
   "source": [
    "from tasks.general.DatasetTasks import PileTask\n",
    "\n",
    "print(\"num_train_iters: \", num_train_iters, \"num_test_iters: \", num_test_iters)\n",
    "\n",
    "evaluate_every = 4\n",
    "grad_accum_steps = 16\n",
    "\n",
    "def eval_callback(model, epoch, evaluate_every=evaluate_every):\n",
    "    if (epoch+1) % evaluate_every == 0:\n",
    "        mmlu_score = run_general_evals(model, model_type=model_type, evals_to_include=[\"MMLU\"], verbose=False, batch_size=2, device=\"cuda\")[\"MMLU\"]\n",
    "        train_bio_acc = eval_bio_task.get_test_accuracy(model, use_test_data=False, n_iters=num_train_iters)\n",
    "        test_bio_acc = eval_bio_task.get_test_accuracy(model, use_test_data=True, n_iters=num_test_iters)\n",
    "        return {\"MMLU\": mmlu_score, \"train_bio_acc\": train_bio_acc, \"test_bio_acc\": test_bio_acc}\n",
    "    else:\n",
    "        return {}\n",
    "\n",
    "if is_lora:\n",
    "    lr = 5e-6\n",
    "else:\n",
    "    lr = 5e-6\n",
    "finetune_lora = False\n",
    "wandb.init(\n",
    "    project=\"sae-relearning\",\n",
    "    config={\n",
    "        \"model_name\": model_name_or_path,\n",
    "        \"pretrained_path\": pretrained_path,\n",
    "        \"lr\": lr,\n",
    "        \"finetune_lora\": finetune_lora,\n",
    "        \"n_iterations\": n_relearn_iters,\n",
    "        \"grad_accum_steps\": grad_accum_steps\n",
    "    }\n",
    ")\n",
    "\n",
    "init_log_dict = {}\n",
    "with torch.no_grad():\n",
    "    initial_train_losses = {}\n",
    "    for task_name, (task, task_weight) in train_tasks.items():\n",
    "        task_loss = 0\n",
    "        for i in range(grad_accum_steps):\n",
    "            loss = task.get_train_loss(model) / grad_accum_steps\n",
    "            task_loss += loss.item()\n",
    "        initial_train_losses[task_name] = task_loss\n",
    "        init_log_dict[f\"train_loss/{task_name}\"] = task_loss\n",
    "print(\"initial_train_losses: \", initial_train_losses)\n",
    "initial_test_loss = eval_callback(model, epoch=-1)\n",
    "for metric_name, value in initial_test_loss.items():\n",
    "    init_log_dict[f\"eval/{metric_name}\"] = value\n",
    "print(\"Initial test evaluations: \", initial_test_loss)\n",
    "\n",
    "wandb.log(init_log_dict, step=0)\n",
    "\n",
    "train_losses, test_losses = do_relearning(model, train_tasks, n_iters=n_relearn_iters, grad_accum_steps=grad_accum_steps, finetune_lora=finetune_lora, learning_kwargs={'lr': lr, 'weight_decay': 0, 'use_cosine': True}, eval_callback_fn=eval_callback)\n",
    "\n",
    "test_losses.insert(0, initial_test_loss)\n",
    "\n",
    "\n",
    "wandb.finish()\n"
   ]
  },
  {
   "cell_type": "code",
   "execution_count": null,
   "metadata": {},
   "outputs": [],
   "source": []
  }
 ],
 "metadata": {
  "kernelspec": {
   "display_name": "Python 3",
   "language": "python",
   "name": "python3"
  },
  "language_info": {
   "codemirror_mode": {
    "name": "ipython",
    "version": 3
   },
   "file_extension": ".py",
   "mimetype": "text/x-python",
   "name": "python",
   "nbconvert_exporter": "python",
   "pygments_lexer": "ipython3",
   "version": "3.12.2"
  }
 },
 "nbformat": 4,
 "nbformat_minor": 2
}
